{
 "cells": [
  {
   "cell_type": "markdown",
   "metadata": {},
   "source": [
    "# Python for Kids - Le variabili\n",
    "\n",
    "\n",
    " ![alt text](data/img.jpg \"Techno Camp - Giochiamo con Python\")\n",
    "\n",
    "\n",
    "Una variabile è una sorta di \"etichetta\", formata da caratteri, dove è possibile conservare un dato.\n",
    "In genere, per assegnare un valore ad una variabile si usa il simbolo = (uguale) seguito dal dato (o valore) che vogliamo assegnare.\n",
    "\n",
    "Nell'esempio sotto proviamo a creare due variabili **numero1** e **numero2** a cui assegniamo il dato numerico 2.\n",
    "\n",
    "Proviamo a sommare le due variabili e il risultato lo mettiamo dentro la variabile **risultato**.\n",
    "\n",
    "A questo punto basta fare una **print** per vedere il risultato. 😎"
   ]
  },
  {
   "cell_type": "code",
   "execution_count": null,
   "metadata": {},
   "outputs": [],
   "source": [
    "# Chiedi al tutor se non riesci a farlo\n",
    "\n",
    "numero1 = 2\n",
    "numero2 = 2\n",
    "risultato = numero1 + numero2\n",
    "print(risultato)"
   ]
  },
  {
   "cell_type": "markdown",
   "metadata": {},
   "source": [
    "E' importante scegliere il nome delle variabili perché possono aiutare nel ragionamento.\n",
    "Proviamo a fare un esercizio:\n",
    "\n",
    "Nel sacchetto delle caramelle ho contato 20 al gusto fragola, 5 al gusto limone, 30 al gusto arancia e 10 al gusto mirtillo.\n",
    "Scrivi le variabili con il gusto delle caramelle e calcola il totale.\n"
   ]
  },
  {
   "cell_type": "code",
   "execution_count": null,
   "metadata": {},
   "outputs": [],
   "source": [
    "# Scrivi tu l'operazione e verifica il risultato\n",
    "# Chiedi al tutor se non riesci a farlo\n",
    "fragola = 20\n"
   ]
  }
 ],
 "metadata": {
  "kernelspec": {
   "display_name": ".venv",
   "language": "python",
   "name": "python3"
  },
  "language_info": {
   "codemirror_mode": {
    "name": "ipython",
    "version": 3
   },
   "file_extension": ".py",
   "mimetype": "text/x-python",
   "name": "python",
   "nbconvert_exporter": "python",
   "pygments_lexer": "ipython3",
   "version": "3.10.12"
  }
 },
 "nbformat": 4,
 "nbformat_minor": 2
}
