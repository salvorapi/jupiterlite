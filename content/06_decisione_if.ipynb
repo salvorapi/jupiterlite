{
 "cells": [
  {
   "cell_type": "markdown",
   "metadata": {},
   "source": [
    "# Python for Kids - Istruzioni di controllo (decisioni)\n",
    "\n",
    "\n",
    " ![alt text](data/img.jpg \"Techno Camp - Giochiamo con Python\")\n",
    "\n",
    "\n"
   ]
  },
  {
   "cell_type": "markdown",
   "metadata": {},
   "source": [
    "Molte volte nella vita di tutti i giorni ci capita prendere delle decisioni.\n",
    "\n",
    "Le decisioni sono importanti: ci fanno scegliere di fare qualcosa piuttosto che altro.\n",
    "\n",
    "![alt text](data/06_if/if.jpg \"IF\")\n",
    "\n",
    "Quando si scrive un programma al computer capita esattamente la stessa cosa!\n",
    "Si può decidere di eseguire delle istruzioni in base a delle condizioni.\n",
    "\n",
    "In Python, l'istruzione per effettuare implementare una \"decisione\" è\n",
    "<pre>\n",
    "    if condizione:\n",
    "        esegui A\n",
    "    else:\n",
    "        esegui B\n",
    "</pre> \n",
    "Nel caso in cui la condzione risulta essere VERA allora viene eseguito A, nell'altro caso viene eseguito B.\n",
    "\n",
    "Vediamo subito un esempio pratico.\n"
   ]
  },
  {
   "cell_type": "code",
   "execution_count": null,
   "metadata": {},
   "outputs": [],
   "source": [
    "numero = 10\n",
    "if numero > 4:\n",
    "    print(\"Il numero è più grande di 4\")\n",
    "else:\n",
    "    print(\"Il numero è più piccolo di 4\")"
   ]
  },
  {
   "cell_type": "markdown",
   "metadata": {},
   "source": [
    "Provate adesso voi a cambiare il valore del numero e vedere cosa viene fuori"
   ]
  },
  {
   "cell_type": "code",
   "execution_count": null,
   "metadata": {},
   "outputs": [],
   "source": [
    "# Scegli tu il numero che vuoi mettere\n",
    "numero = 0\n",
    "if numero > 4:\n",
    "    print(\"Il numero è più grande di 4\")\n",
    "else:\n",
    "    print(\"Il numero è più piccolo di 4\")"
   ]
  },
  {
   "cell_type": "markdown",
   "metadata": {},
   "source": [
    "Possiamo anche specificare più condizioni aggiungendo **elif**.\n",
    "Vengono così valutate tutte le istruzioni di controllo e, se nessuna viene trovata vera, allora viene eseguito l'**else** (parola che significa altrimenti in Inglese)"
   ]
  },
  {
   "cell_type": "code",
   "execution_count": null,
   "metadata": {},
   "outputs": [],
   "source": [
    "colore_penna = \"verde\"\n",
    "if colore_penna == \"rossa\":\n",
    "    print(\"Il colore della penna è rossa\")\n",
    "elif colore_penna == \"blu\":\n",
    "    print(\"Il colore della penna è blu\")\n",
    "else:\n",
    "    print(\"Non conosco il colore della penna\")"
   ]
  },
  {
   "cell_type": "markdown",
   "metadata": {},
   "source": [
    "Abbiamo detto che una condizione può essere VERA o FALSA.\n",
    "\n",
    "In Python, per scrivere le operazioni di controllo esistono diversi operatori che ritornano un valore VERO o FALSO in base a quello che si sta confrontando.\n",
    "\n",
    "* **==** serve a controllare se due variabili (o valori) hanno lo stesso valore\n",
    "* **>** serve a controllare se due variabili (o valori) sono il primo MAGGIORE dell'altro\n",
    "* **<** serve a controllare se due variabili (o valori) sono il primo MINORE dell'altro"
   ]
  },
  {
   "cell_type": "markdown",
   "metadata": {},
   "source": [
    "# Esercizio\n",
    "\n",
    "Proviamo a scrivere un codice Python che, data una variabie che contiiene il vostro nome, decide se il vostro nome è corretto oppure no.\n",
    "\n",
    "Provate ad aggiungere anche una variable con la vostra età e provate a vedere se anche questa è corretta oppure no."
   ]
  },
  {
   "cell_type": "code",
   "execution_count": null,
   "metadata": {},
   "outputs": [],
   "source": [
    "# Scrivi tu l'operazione e verifica il risultato\n",
    "# Chiedi al tutor se non riesci a farlo"
   ]
  }
 ],
 "metadata": {
  "kernelspec": {
   "display_name": ".venv",
   "language": "python",
   "name": "python3"
  },
  "language_info": {
   "codemirror_mode": {
    "name": "ipython",
    "version": 3
   },
   "file_extension": ".py",
   "mimetype": "text/x-python",
   "name": "python",
   "nbconvert_exporter": "python",
   "pygments_lexer": "ipython3",
   "version": "3.10.12"
  }
 },
 "nbformat": 4,
 "nbformat_minor": 2
}
