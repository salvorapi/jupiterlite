{
 "cells": [
  {
   "cell_type": "markdown",
   "metadata": {},
   "source": [
    "# Python for Kids - I numberi\n",
    "\n",
    "\n",
    " ![alt text](data/img.jpg \"Techno Camp - Giochiamo con Python\")\n",
    "\n",
    "\n",
    "La prima possibilità che abbiamo con Python è quella di giocare con i numeri.\n",
    "\n",
    "Se vi chiedessi di moltiplicare **52 x 120**, chi mi sa rispondere ?\n",
    "\n",
    "In genere, quello che facciamo è andare a prendere la calcolatrice e provare a fare le operazioni per ottenere il risultato.\n",
    "\n",
    "La stessa cosa si può fare con Python!\n",
    "\n",
    "\n",
    "Proviamo insieme!\n",
    "\n",
    "**NOTA**:\n",
    "Per poter eseguire il codice, cliccate con il mouse sopra la scritta sotto e premete il tasto ▶️ nella barra in alto oppure\n",
    "potete usare la combinazione di tasti CTRL+invio."
   ]
  },
  {
   "cell_type": "code",
   "execution_count": null,
   "metadata": {},
   "outputs": [],
   "source": [
    "52 * 120"
   ]
  },
  {
   "cell_type": "markdown",
   "metadata": {},
   "source": [
    "Bravissimi! 👏🏻\n",
    "\n",
    "Abbiamo ottenuto il risultato giusto.\n",
    "In Python, possiamo effettuare le seguenti operazioni elementari:\n",
    "\n",
    "<table>\n",
    "<tr>\n",
    "    <td>Simbolo</td>\n",
    "    <td>Operazione</td>\n",
    "</tr>\n",
    "<tr>\n",
    "    <td>+</td>\n",
    "    <td>Somma</td>\n",
    "</tr>\n",
    "<tr>\n",
    "    <td>-</td>\n",
    "    <td>Differenza</td>\n",
    "</tr>\n",
    "<tr>\n",
    "    <td>*</td>\n",
    "    <td>Moltiplicazione</td>\n",
    "</tr>\n",
    "<tr>\n",
    "    <td>/</td>\n",
    "    <td>Divisione</td>\n",
    "</tr>\n",
    "</table>\n",
    "\n",
    "\n"
   ]
  },
  {
   "cell_type": "markdown",
   "metadata": {},
   "source": [
    "# Esercizio\n",
    "\n",
    "Proviamo a usare tutte le operazioni e vediamo che succede con Python\n",
    "Possiamo usare lo spazio sotto per verificare come funziona:\n",
    "\n",
    "Esempi:\n",
    "\n",
    "* 45 + 5\n",
    "* 100 / 2\n",
    "* 22 - 2  \n",
    "* 150 * 3\n",
    "* 5 * 1000 / 2 - 2"
   ]
  },
  {
   "cell_type": "code",
   "execution_count": null,
   "metadata": {},
   "outputs": [],
   "source": [
    "# Scrivi tu l'operazione e verifica il risultato\n",
    "# Chiedi al tutor se non riesci a farlo\n",
    "\n",
    "5 * 1000 / 2 - 2"
   ]
  }
 ],
 "metadata": {
  "kernelspec": {
   "display_name": ".venv",
   "language": "python",
   "name": "python3"
  },
  "language_info": {
   "codemirror_mode": {
    "name": "ipython",
    "version": 3
   },
   "file_extension": ".py",
   "mimetype": "text/x-python",
   "name": "python",
   "nbconvert_exporter": "python",
   "pygments_lexer": "ipython3",
   "version": "3.10.12"
  }
 },
 "nbformat": 4,
 "nbformat_minor": 2
}
