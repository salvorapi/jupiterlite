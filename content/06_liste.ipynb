{
 "cells": [
  {
   "cell_type": "markdown",
   "metadata": {},
   "source": [
    "# Python for Kids - Le liste\n",
    "\n",
    "\n",
    "![alt text](data/img.jpg \"Techno Camp - Giochiamo con Python\")\n",
    "\n",
    "In Python una lista è una contenitore di valori.\n",
    "\n",
    "Per descrivere una lista basta utilizare le parentesi quadre [ ].\n",
    "\n",
    "Possiamo paragonare una lista ad un porta colori dove possiamo inserire tutti i nostri colori ognuno nella propria posizione.\n",
    "\n",
    "\n",
    "![alt text](data/06_liste/porta_colori.jpg \"Techno Camp - Giochiamo con Python\")\n",
    "\n",
    "\n",
    "Proviamo a creare un porta colori con i nostri colori preferiti.\n",
    "\n",
    " "
   ]
  },
  {
   "cell_type": "code",
   "execution_count": null,
   "metadata": {},
   "outputs": [],
   "source": [
    "# Se hai bisogno puoi chiedere anche al tutor\n",
    "porta_colori = ['giallo', 'verde', 'blu', 'rosso', 'arancione', 'viola']\n",
    "porta_colori"
   ]
  },
  {
   "cell_type": "markdown",
   "metadata": {},
   "source": [
    "La prima cosa che possiamo fare è contare quanti colori abbiamo nel nostro porta colori.\n"
   ]
  },
  {
   "cell_type": "code",
   "execution_count": null,
   "metadata": {},
   "outputs": [],
   "source": [
    "# Se hai bisogno puoi chiedere anche al tutor\n",
    "len(porta_colori)"
   ]
  },
  {
   "cell_type": "markdown",
   "metadata": {},
   "source": [
    "Se immaginiamo che il porta colori è molto grande, possiamo aggiungere un nuovo colore alla fine usando _append('colore')_"
   ]
  },
  {
   "cell_type": "code",
   "execution_count": null,
   "metadata": {},
   "outputs": [],
   "source": [
    "# Se hai bisogno puoi chiedere anche al tutor\n",
    "porta_colori.append(\"celeste\")\n",
    "porta_colori"
   ]
  },
  {
   "cell_type": "markdown",
   "metadata": {},
   "source": [
    "Abbiamo anche il \"potere\" di creare degli anelli nuovi, così da poter inserire un nuovo colore tra due già esistenti"
   ]
  },
  {
   "cell_type": "code",
   "execution_count": null,
   "metadata": {},
   "outputs": [],
   "source": [
    "# Se hai bisogno puoi chiedere anche al tutor\n",
    "# Proviamo a inserire prima del \"blu\" il colore \"marrone\"\n",
    "porta_colori.insert(2, \"marrone\")\n",
    "porta_colori"
   ]
  },
  {
   "cell_type": "markdown",
   "metadata": {},
   "source": [
    "Adesso, ogni anello del nostro porta colori contiene un colore. Come faccio a sapere che colore abbiamo ad una posizione ?\n",
    "\n",
    "Sapendo che in Python la prima posizione di una lista è sempre lo 0 (zero), possiamo conoscere quale colore abbiamo semplicemente indicando il nome della nostra lista e la posizione che ci interessa vedere.\n",
    "\n",
    "Vediamo come:\n"
   ]
  },
  {
   "cell_type": "code",
   "execution_count": null,
   "metadata": {},
   "outputs": [],
   "source": [
    "# Se hai bisogno puoi chiedere anche al tutor\n",
    "# Adesso il nostro porta colori è fatto così\n",
    "# porta_colori = ['giallo', 'verde', 'marrone, 'blu', 'rosso', 'arancione', 'viola', 'celeste']\n",
    "#\n",
    "# Se vogliamo conoscere il colore del secondo pennarello possiamo fare così\n",
    "porta_colori[1]\n"
   ]
  },
  {
   "cell_type": "markdown",
   "metadata": {},
   "source": [
    "Possiamo anche provare a chiedere a Python di indicarci in quale posizione si trova un colore usando _index(\"colore\")_"
   ]
  },
  {
   "cell_type": "code",
   "execution_count": null,
   "metadata": {},
   "outputs": [],
   "source": [
    "# Se hai bisogno puoi chiedere anche al tutor\n",
    "# Il risultato dovrebbe essere 7\n",
    "porta_colori.index(\"celeste\")"
   ]
  },
  {
   "cell_type": "markdown",
   "metadata": {},
   "source": [
    "Adesso, se conosciamo l'indice dei nostri colori possiamo anche rimuovere il pennarello e anche l'anello che lo tiene!\n",
    "Quindi, se abbiamo adesso\n",
    "* 0: 'giallo'\n",
    "* 1: 'verde'\n",
    "* 2: 'marrone\n",
    "* 3: 'blu'\n",
    "* 4: 'rosso'\n",
    "* 5: 'arancione'\n",
    "* 6: 'viola'\n",
    "* 7: 'celeste'\n",
    "\n",
    "Possiamo andare a togliere un colore con l'istruzione _pop(indice)_"
   ]
  },
  {
   "cell_type": "code",
   "execution_count": null,
   "metadata": {},
   "outputs": [],
   "source": [
    "# Proviamo a togliere l'arancione e vediamo i colori che rimangono\n",
    "porta_colori.pop(5)\n",
    "porta_colori"
   ]
  },
  {
   "cell_type": "markdown",
   "metadata": {},
   "source": [
    "Infine, possiamo anche decidere di prendere tutti i nostri colori e ordinare le loro posizioni per nome\n",
    "\n",
    "Per farlo, ci basta utilizzare _sort()_ (che in Italiano viene tradotto con \"ordina\")\n",
    "\n"
   ]
  },
  {
   "cell_type": "code",
   "execution_count": null,
   "metadata": {},
   "outputs": [],
   "source": [
    "porta_colori.sort()\n",
    "porta_colori"
   ]
  },
  {
   "cell_type": "markdown",
   "metadata": {},
   "source": []
  },
  {
   "cell_type": "markdown",
   "metadata": {},
   "source": [
    "### Esercizio\n",
    "\n",
    "Provate a creare la vostra lista \"porta_colori\" con i vostri colori preferiti.\n",
    "Dopo averlo creato, provate ad aggiungere un nuovo colore, cercare la posizione (indice) dove si trova il colore e poi a rimuovere quel colore.\n"
   ]
  },
  {
   "cell_type": "code",
   "execution_count": null,
   "metadata": {},
   "outputs": [],
   "source": [
    "porta_colori = []"
   ]
  }
 ],
 "metadata": {
  "kernelspec": {
   "display_name": ".venv",
   "language": "python",
   "name": "python3"
  },
  "language_info": {
   "codemirror_mode": {
    "name": "ipython",
    "version": 3
   },
   "file_extension": ".py",
   "mimetype": "text/x-python",
   "name": "python",
   "nbconvert_exporter": "python",
   "pygments_lexer": "ipython3",
   "version": "3.10.12"
  }
 },
 "nbformat": 4,
 "nbformat_minor": 2
}
