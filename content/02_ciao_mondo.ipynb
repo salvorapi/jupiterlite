{
 "cells": [
  {
   "cell_type": "markdown",
   "metadata": {},
   "source": [
    "# Python for Kids - Hello, World!\n",
    "\n",
    "\n",
    " ![alt text](data/img.jpg \"Techno Camp - Giochiamo con Python\")\n",
    "\n",
    " Il primo esempio che si usa quando si impara a programmare è salutare tutto il mondo!\n",
    "\n",
    " In Python, l'istruzione per poter vedere qualcosa è \"print\", dall'inglese stampa (sapete il perché? ❓🤔)\n",
    "\n",
    " Per poter eseguire il codice, cliccate con il mouse sopra la scritta sotto e premete il tasto ▶️ nella barra in alto oppure\n",
    " potete usare la combinazione di tasti CTRL+invio.\n",
    "\n",
    " Dovrebbe comparire la scritta \"Ciao, mondo! 😊🐍\"\n"
   ]
  },
  {
   "cell_type": "code",
   "execution_count": null,
   "metadata": {},
   "outputs": [],
   "source": [
    "print('Ciao, mondo! 😊🐍')"
   ]
  },
  {
   "cell_type": "markdown",
   "metadata": {},
   "source": [
    "# Esercizio\n",
    "\n",
    "Provate voi stessi a scrivere un saluto al maestro Fredy! 😁\n",
    "\n",
    "Posizionatevi con il mouse e scrivete voi stesso il contenuto a posto dei 3 puntini. "
   ]
  },
  {
   "cell_type": "code",
   "execution_count": null,
   "metadata": {},
   "outputs": [],
   "source": [
    "# Sostituisci i 3 puntini con il saluto al maestro Fredy\n",
    "# Se hai bisogno puoi chiedere anche ai tutor\n",
    "print('...')"
   ]
  }
 ],
 "metadata": {
  "kernelspec": {
   "display_name": ".venv",
   "language": "python",
   "name": "python3"
  },
  "language_info": {
   "codemirror_mode": {
    "name": "ipython",
    "version": 3
   },
   "file_extension": ".py",
   "mimetype": "text/x-python",
   "name": "python",
   "nbconvert_exporter": "python",
   "pygments_lexer": "ipython3",
   "version": "3.10.12"
  }
 },
 "nbformat": 4,
 "nbformat_minor": 2
}
