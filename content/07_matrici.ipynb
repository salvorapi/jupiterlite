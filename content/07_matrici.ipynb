{
 "cells": [
  {
   "cell_type": "markdown",
   "metadata": {},
   "source": [
    "# Python for Kids - Le matrici\n",
    "\n",
    "\n",
    " ![alt text](data/img.jpg \"Techno Camp - Giochiamo con Python\")\n",
    "\n",
    "Abbiamo visto in precedenza come possiamo usare le liste in Python paragondalo ad un porta colori. <br/>\n",
    "Proviamo adesso a capire cosa è una matrice.\n",
    "\n",
    "In Python, una matrice è una lista di liste. 😊 La definizione è abbastanza semplice, ma forse riusciamo a fissare meglio il concetto se ci concentriamo su una tabella che ha righe e colonne.\n",
    "\n",
    "![alt text](data/07_matrici/matrix-3-3.png \"Matrice\")\n",
    "\n",
    "Come facciamo in Python a descrivere qualcosa del genere ?\n",
    "\n",
    "\n",
    "\n"
   ]
  },
  {
   "cell_type": "code",
   "execution_count": null,
   "metadata": {},
   "outputs": [
    {
     "name": "stdout",
     "output_type": "stream",
     "text": [
      "[[2, 3, 5], [7, 14, 21], [1, 3, 5]]\n"
     ]
    }
   ],
   "source": [
    "tabella = [\n",
    "    [2,  3,  5],\n",
    "    [7, 14, 21],\n",
    "    [1,  3,  5]\n",
    "]\n",
    "tabella"
   ]
  },
  {
   "cell_type": "markdown",
   "metadata": {},
   "source": [
    "Come facciamo a recupare il valore 14 che si trova nella seconda lista alla seconda posizione ?\n",
    "\n",
    "Semplice, possiamo usare gli indici per recupare l'elemento della lista. \n",
    "\n",
    "Facciamo passo passo, recuperiamo prima la lista dove si trova l'elemento 14"
   ]
  },
  {
   "cell_type": "code",
   "execution_count": null,
   "metadata": {},
   "outputs": [],
   "source": [
    "riga = tabella[1]\n",
    "riga"
   ]
  },
  {
   "cell_type": "markdown",
   "metadata": {},
   "source": [
    "Quindi, proviamo dalla riga a recuperare l'elemento in colonna\n"
   ]
  },
  {
   "cell_type": "code",
   "execution_count": null,
   "metadata": {},
   "outputs": [],
   "source": [
    "valore = riga[1]\n",
    "valore"
   ]
  },
  {
   "cell_type": "markdown",
   "metadata": {},
   "source": [
    "Ottimo! 👏🏻🥳\n",
    "\n",
    "Siamo riusciti a recuperare il valore 14! Ma possiamo fare di più....💪🏻"
   ]
  },
  {
   "cell_type": "code",
   "execution_count": 12,
   "metadata": {},
   "outputs": [
    {
     "name": "stdout",
     "output_type": "stream",
     "text": [
      "😁14😁\n"
     ]
    }
   ],
   "source": [
    "valore = tabella[1][1]\n",
    "print('😁' + str(valore) + '😁')"
   ]
  }
 ],
 "metadata": {
  "kernelspec": {
   "display_name": ".venv",
   "language": "python",
   "name": "python3"
  },
  "language_info": {
   "codemirror_mode": {
    "name": "ipython",
    "version": 3
   },
   "file_extension": ".py",
   "mimetype": "text/x-python",
   "name": "python",
   "nbconvert_exporter": "python",
   "pygments_lexer": "ipython3",
   "version": "3.10.12"
  }
 },
 "nbformat": 4,
 "nbformat_minor": 2
}
