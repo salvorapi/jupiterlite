{
 "cells": [
  {
   "cell_type": "markdown",
   "metadata": {},
   "source": [
    "# Python for Kids - Le matrici\n",
    "\n",
    "\n",
    " ![alt text](data/img.jpg \"Techno Camp - Giochiamo con Python\")\n",
    "\n",
    "Abbiamo visto in precedenza come possiamo usare le liste in Python paragondalo ad un porta colori. <br/>\n",
    "Proviamo adesso a capire cosa è una matrice. Proviamo a pensare ad uno scatolo porta uova. Ne avete mai visto uno ?\n",
    "\n",
    "![alt text](data/07_matrici/3374.jpg \"Uova\")\n",
    "\n",
    "In Python, una matrice è una lista di liste. 😊 La definizione è abbastanza semplice, ma forse riusciamo a fissare meglio il concetto se ci concentriamo su una tabella che ha righe e colonne.\n",
    "\n",
    "![alt text](data/07_matrici/matrix-3-3.png \"Matrice\")\n",
    "\n",
    "Come facciamo in Python a descrivere qualcosa del genere ?\n",
    "\n",
    "\n",
    "\n"
   ]
  },
  {
   "cell_type": "code",
   "execution_count": null,
   "metadata": {},
   "outputs": [],
   "source": [
    "tabella = [\n",
    "    [2,  3,  5],\n",
    "    [7, 14, 21],\n",
    "    [1,  3,  5]\n",
    "]\n",
    "tabella"
   ]
  },
  {
   "cell_type": "markdown",
   "metadata": {},
   "source": [
    "Come facciamo a recupare il valore 14 che si trova nella seconda lista alla seconda posizione ?\n",
    "\n",
    "Semplice, possiamo usare gli indici per recupare l'elemento della lista. \n",
    "\n",
    "Facciamo passo passo, recuperiamo prima la lista dove si trova l'elemento 14"
   ]
  },
  {
   "cell_type": "code",
   "execution_count": null,
   "metadata": {},
   "outputs": [],
   "source": [
    "riga = tabella[1]\n",
    "riga"
   ]
  },
  {
   "cell_type": "markdown",
   "metadata": {},
   "source": [
    "Quindi, proviamo dalla riga a recuperare l'elemento in colonna\n"
   ]
  },
  {
   "cell_type": "code",
   "execution_count": null,
   "metadata": {},
   "outputs": [],
   "source": [
    "valore = riga[1]\n",
    "valore"
   ]
  },
  {
   "cell_type": "markdown",
   "metadata": {},
   "source": [
    "Ottimo! 👏🏻🥳\n",
    "\n",
    "Siamo riusciti a recuperare il valore 14! Ma possiamo fare di più....💪🏻"
   ]
  },
  {
   "cell_type": "code",
   "execution_count": null,
   "metadata": {},
   "outputs": [],
   "source": [
    "valore = tabella[1][1]\n",
    "print('😁' + str(valore) + '😁')"
   ]
  },
  {
   "cell_type": "markdown",
   "metadata": {},
   "source": [
    "## Esercizio\n",
    "\n",
    "Il gioco del Tic-Tac-Toe o comunemente detto il Tris!\n",
    "\n",
    "Prova a scrivere in Python una matrice 3x3 che può contenere soltanto il carattere 'X', 'O' o lo spazio ' '.\n",
    "\n",
    "Fai in modo che qualcuno possa vincere. 😁😁\n",
    "\n",
    "Stampa prima l'intera matrice e poi le 3 posizioni dove è presente il tris."
   ]
  },
  {
   "cell_type": "code",
   "execution_count": null,
   "metadata": {},
   "outputs": [],
   "source": [
    "# Se hai bisogno puoi chiedere anche al tutor\n",
    "# Il risultato dovrebbe essere 7\n",
    "\n",
    "tris = [\n",
    "\n",
    "\n",
    "]\n"
   ]
  }
 ],
 "metadata": {
  "kernelspec": {
   "display_name": ".venv",
   "language": "python",
   "name": "python3"
  },
  "language_info": {
   "codemirror_mode": {
    "name": "ipython",
    "version": 3
   },
   "file_extension": ".py",
   "mimetype": "text/x-python",
   "name": "python",
   "nbconvert_exporter": "python",
   "pygments_lexer": "ipython3",
   "version": "3.10.12"
  }
 },
 "nbformat": 4,
 "nbformat_minor": 2
}
