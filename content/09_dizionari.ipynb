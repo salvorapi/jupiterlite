{
 "cells": [
  {
   "cell_type": "markdown",
   "metadata": {},
   "source": [
    "# Python for Kids - I dizionari\n",
    "\n",
    "\n",
    " ![alt text](data/img.jpg \"Techno Camp - Giochiamo con Python\")\n",
    "\n",
    "\n",
    "Un dizioniario è una struttura dati che permette di associare ad un valore di riferimento, denominato \"chiave\", un valore associato, denominato \"valore\".\n",
    "\n",
    "La parola \"dizionario\" ricorda tanto quello del libro che usiamo per andare a cercare il significato di una parola.\n",
    "\n",
    "Ed è proprio così che possiamo immaginarci una struttura dati dizionario in Python.\n",
    "\n",
    "In Python, possiamo definire una struttura dati dizionario con le parentesi graffe aperta '{' e chiusa '}'\n",
    "\n",
    "Andiamo a vedere un poco...\n",
    "\n"
   ]
  },
  {
   "cell_type": "code",
   "execution_count": null,
   "metadata": {},
   "outputs": [],
   "source": [
    "dizionario = { \n",
    "    'chiave': 'valore'\n",
    "}\n",
    "print(dizionario)\n",
    "dizionario['chiave']"
   ]
  },
  {
   "cell_type": "markdown",
   "metadata": {},
   "source": [
    "Per accedere ad un valore di un dizionario possiamo, come per le liste, utilizzare la notazione delle parentesi quadre.\n",
    "\n",
    "Proviamo a definire qualcosa di più utile magari con gli animali e il loro verso...\n",
    "\n"
   ]
  },
  {
   "cell_type": "code",
   "execution_count": null,
   "metadata": {},
   "outputs": [],
   "source": [
    "animali = {\n",
    "    'gatto': 'miagola',\n",
    "    'cane': 'abbaia',\n",
    "    'passerotto': 'cinguetta',\n",
    "    'serpente': 'sibilla'\n",
    "}\n",
    "for chiave, valore in animali.items():\n",
    "    print(\"il \" + chiave + \" \" + valore )"
   ]
  },
  {
   "cell_type": "markdown",
   "metadata": {},
   "source": [
    "Con il metodo _.items()_ ritorna tutte le coppie (chiave,valore) così da poter scorrere il dizionario e ciclare su tutti i suoi elementi.\n",
    "\n",
    "Inoltre, possiamo verificare se esiste una chiave all'interno del dizionario:\n",
    "\n"
   ]
  },
  {
   "cell_type": "code",
   "execution_count": null,
   "metadata": {},
   "outputs": [],
   "source": [
    "if 'cane' in animali:\n",
    "    print('Conosco il verso del cane')\n",
    "else:\n",
    "    print('Non conosco il verso del cane')"
   ]
  },
  {
   "cell_type": "markdown",
   "metadata": {},
   "source": [
    "# Esercizio\n"
   ]
  }
 ],
 "metadata": {
  "kernelspec": {
   "display_name": ".venv",
   "language": "python",
   "name": "python3"
  },
  "language_info": {
   "codemirror_mode": {
    "name": "ipython",
    "version": 3
   },
   "file_extension": ".py",
   "mimetype": "text/x-python",
   "name": "python",
   "nbconvert_exporter": "python",
   "pygments_lexer": "ipython3",
   "version": "3.10.12"
  }
 },
 "nbformat": 4,
 "nbformat_minor": 2
}
