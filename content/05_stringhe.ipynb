{
 "cells": [
  {
   "cell_type": "markdown",
   "metadata": {},
   "source": [
    "# Python for Kids - Le stringhe\n",
    "\n",
    "\n",
    " ![alt text](data/img.jpg \"Techno Camp - Giochiamo con Python\")\n",
    "\n",
    "Una stringa è composta da una serie di caratteri dell'alfabeto, di numeri e caratteri speciali.\n",
    "\n",
    "Il primo esercizio che abbiamo fatto \"Ciao, mondo!\", abbiamo fatto stampato a schermo una stringa con la stringa **Ciao, mondo!**\n",
    "\n",
    "In Python, una stringa inizia e finisce sempre con virgolette singole ( ' ) o doppie ( \" ). Non c'è differenza, tranne se è presente un apostrofo ( ' ) all'interno della stringa."
   ]
  },
  {
   "cell_type": "markdown",
   "metadata": {},
   "source": [
    "Come accennato, Python cerca di gestire tutto nel modo più intuitivo possibile. Ciò significa che le stringhe possono essere sommate (concatenate)."
   ]
  },
  {
   "cell_type": "code",
   "execution_count": null,
   "metadata": {},
   "outputs": [],
   "source": [
    "\"Ciao,\" + \"mondo!\""
   ]
  },
  {
   "cell_type": "markdown",
   "metadata": {},
   "source": [
    "Inoltre, le stringhe possono anche essere moltiplicate per un numero."
   ]
  },
  {
   "cell_type": "code",
   "execution_count": null,
   "metadata": {},
   "outputs": [],
   "source": [
    "'😁' * 20"
   ]
  },
  {
   "cell_type": "markdown",
   "metadata": {},
   "source": [
    "Abbiamo la possibilità di accedere a una parte di stringa spezzettandala (*slice*, un pezzo) . \n",
    "Un carattere (che è considerato come una stringa di lunghezza 1 da Python) in una stringa è un pezzo di stringa, mentre una sottostringa è un insieme di pezzi.\n"
   ]
  },
  {
   "cell_type": "code",
   "execution_count": 5,
   "metadata": {},
   "outputs": [],
   "source": [
    "s = \"Python è intuitivo\""
   ]
  },
  {
   "cell_type": "markdown",
   "metadata": {},
   "source": [
    "### _Singolo carattere_\n",
    "Se vogliamo possiamo accedere ad un singolo carattere della stringa"
   ]
  },
  {
   "cell_type": "code",
   "execution_count": null,
   "metadata": {},
   "outputs": [],
   "source": [
    "s[0]"
   ]
  },
  {
   "cell_type": "markdown",
   "metadata": {},
   "source": [
    "### _Sottostringa_\n",
    "\n",
    "Se vogliamo possiamo prendere anche solo un pezzo \n",
    "\n"
   ]
  },
  {
   "cell_type": "code",
   "execution_count": null,
   "metadata": {},
   "outputs": [],
   "source": [
    "s[0:6]"
   ]
  }
 ],
 "metadata": {
  "kernelspec": {
   "display_name": ".venv",
   "language": "python",
   "name": "python3"
  },
  "language_info": {
   "codemirror_mode": {
    "name": "ipython",
    "version": 3
   },
   "file_extension": ".py",
   "mimetype": "text/x-python",
   "name": "python",
   "nbconvert_exporter": "python",
   "pygments_lexer": "ipython3",
   "version": "3.10.12"
  }
 },
 "nbformat": 4,
 "nbformat_minor": 2
}
