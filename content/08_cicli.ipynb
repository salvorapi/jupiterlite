{
 "cells": [
  {
   "cell_type": "markdown",
   "metadata": {},
   "source": [
    "# Python for Kids - I cicli\n",
    "\n",
    "\n",
    " ![alt text](data/img.jpg \"Techno Camp - Giochiamo con Python\")\n",
    "\n",
    " Andiamo adesso a vedere come possiamo ripetere più volte qualcosa sulle liste o sulle matrici\n",
    "\n",
    " In Python possiamo la sintassi \"**for** _variabile_ **in** _iteratore_:\" per ripetere un'azione più volte!\n",
    "\n",
    " Proviamo subito con un bel pezzo di codice....\n",
    "\n"
   ]
  },
  {
   "cell_type": "code",
   "execution_count": null,
   "metadata": {},
   "outputs": [],
   "source": [
    "for i in range(5):\n",
    "    print(\"Ciao, mondo!\")"
   ]
  },
  {
   "cell_type": "markdown",
   "metadata": {},
   "source": [
    "Benissimo! \n",
    "\n",
    "Ma, un attimo....cosa è **range(5)** ?\n",
    "\n",
    "_range_ è una funzione (parleremo tra poco delle funzioni) che ritorna una sorta di sequenza di numeri da 0 a 4 (che se li contiamo sono 5 😊).\n",
    "Proviamo a vedere meglio..."
   ]
  },
  {
   "cell_type": "code",
   "execution_count": null,
   "metadata": {},
   "outputs": [],
   "source": [
    "for i in range(5):\n",
    "    print(i)"
   ]
  },
  {
   "cell_type": "markdown",
   "metadata": {},
   "source": [
    "Perfetto! 💪🏻\n",
    "\n",
    "\n",
    "Ma come facciamo a farci stampare da 1 a 5 ? Facile! Sommiamo una unità!"
   ]
  },
  {
   "cell_type": "code",
   "execution_count": null,
   "metadata": {},
   "outputs": [],
   "source": [
    "for i in range(5):\n",
    "    print(i+1)"
   ]
  },
  {
   "cell_type": "markdown",
   "metadata": {},
   "source": [
    "Ma possiamo fare di più! Infatti, supponiamo di avere una lista con i nomi dei nostri amici e vogliamo salutare uno per uno."
   ]
  },
  {
   "cell_type": "code",
   "execution_count": null,
   "metadata": {},
   "outputs": [],
   "source": [
    "amici = ['Mario', 'Luigi', 'Michele', 'Anna', 'Gaia', 'Alessandro', 'Roberto']\n",
    "for amico in amici:\n",
    "    print(\"Ciao, \" + amico + \"!\")"
   ]
  },
  {
   "cell_type": "markdown",
   "metadata": {},
   "source": [
    "Proviamo adesso a fare un esercizio:\n",
    "\n",
    "\n",
    "1. Proviamo a stampare la tabellina del 3 con Python. Come lo faresti ?\n",
    "2. Riusciamo a stampare tutte le tabelline dall'1 al 10 ? 😊\n",
    "\n"
   ]
  },
  {
   "cell_type": "code",
   "execution_count": null,
   "metadata": {},
   "outputs": [],
   "source": [
    "# Primo esercizio: Proviamo a stampare la tabellina del 3 con Python. Come lo faresti ?\n",
    "# Sostituisci i 3 puntini con il codice giusto \n",
    "# Chiedi al tutor se non riesci a farlo\n",
    "\n",
    "for i in range(10):\n",
    "    ...\n"
   ]
  },
  {
   "cell_type": "code",
   "execution_count": null,
   "metadata": {},
   "outputs": [],
   "source": [
    "# Secondo esercizio: 2. Riusciamo a stampare tutte le tabelline dall'1 al 10 ? 😊\n",
    "for tabellina in range(10):\n",
    "    for i in range(10):\n",
    "        ..."
   ]
  }
 ],
 "metadata": {
  "kernelspec": {
   "display_name": ".venv",
   "language": "python",
   "name": "python3"
  },
  "language_info": {
   "codemirror_mode": {
    "name": "ipython",
    "version": 3
   },
   "file_extension": ".py",
   "mimetype": "text/x-python",
   "name": "python",
   "nbconvert_exporter": "python",
   "pygments_lexer": "ipython3",
   "version": "3.10.12"
  }
 },
 "nbformat": 4,
 "nbformat_minor": 2
}
