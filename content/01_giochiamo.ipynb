{
 "cells": [
  {
   "cell_type": "markdown",
   "metadata": {},
   "source": [
    "# Giochiamo con Python!\n",
    "\n",
    " ![alt text](data/img.jpg \"Title\")\n",
    "\n",
    "## Benvenuti ragazzi nel primo corso Python per ragazzi! 🐍\n",
    "\n",
    "Ciao ragazzi!\n",
    "<p style=\"font-size: 1.5em\">\n",
    "Attraverso questo sito proviamo a fare i primi passi, in modo semplice e interattivo,\n",
    " con il linguaggio di programmazione Python e sperimentare come si creano i programmi per computer.\n",
    "</p>\n",
    "\n",
    "### Cosa è un linguaggio di programmazione ?\n",
    "\n",
    "<p>\n",
    "Fin da quando eravamo piccoli tutti noi abbiamo imparato un linguaggio, la lingua Italiana, per poter comunicare con i nostri cari (mamma, papà, amici.)\n",
    "</p>\n",
    " \n",
    " ![alt text](data/7980.jpg \"Linguaggio\")\n",
    "\n",
    "<p>\n",
    "Attraverso le parole più semplici (\"ciao ciao\", \"fame\", \"acqua\", \"ti voglio bene\") abbiamo imparato a **costruire** un modo per esprimere quello \n",
    "di cui avevamo bisogno e le nostre sensazioni. \n",
    "</p>\n",
    "\n",
    "\n",
    "Un **linguaggio di programmazione** non è tanto diverso dalla lingua che parliamo tutti i giorni.\n",
    "\n",
    "Si tratta di una serie di \"parole\" (istruzioni) con cui possiamo chiedere al computer di fare qualcosa per noi. 😎\n",
    "\n",
    "\n",
    "### Cosa è un programma ?\n",
    "\n",
    "Qualcuno di voi sa come si cucina una torta di mele❓ 😁 \n",
    "Cosa serve per farlo ? 🤔❓\n",
    "\n",
    "![alt text](data/2148595725.jpg \"Linguaggio\")\n",
    "\n",
    "\n",
    "Bravi! Servono proprio una **ricetta** e gli **ingredienti** giusti per cucinare una buona torta!\n",
    "\n",
    "Un **programma** è molto simile a una ricetta per cucinare una buona torta.\n",
    "Sono una serie di comandi da eseguire, in maniera ben precisa, per ottenere il risultato che ci aspettiamo.\n",
    "\n",
    "### Cosa è Python ?\n",
    "\n",
    "Python è un lingaggio di programmazione 🐍 molto intuitivo con cui è possibile scrivere programmi e interagore con un computer.\n",
    "\n",
    "Il suo ideatore è Guido Van Rossum, che ha scelto questo nome da una trasmissione televisiva _Monty Python's Flying Circus_, e non dal serpente\n",
    "\n",
    "### Chi siamo noi ? Python Catania\n",
    "\n",
    "Python Catania è la community dedicata al linguaggio di programmazione Python\n",
    "\n",
    "Trovate tutti i nostri riferimento sul sito web https://catania.python.it\n",
    "\n"
   ]
  }
 ],
 "metadata": {
  "kernelspec": {
   "display_name": ".venv",
   "language": "python",
   "name": "python3"
  },
  "language_info": {
   "codemirror_mode": {
    "name": "ipython",
    "version": 3
   },
   "file_extension": ".py",
   "mimetype": "text/x-python",
   "name": "python",
   "nbconvert_exporter": "python",
   "pygments_lexer": "ipython3",
   "version": "3.10.12"
  }
 },
 "nbformat": 4,
 "nbformat_minor": 2
}
